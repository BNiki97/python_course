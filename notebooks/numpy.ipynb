{
 "cells": [
  {
   "cell_type": "markdown",
   "metadata": {},
   "source": [
    "# Some additional built-in Python functions\n",
    "\n",
    "- if, all, sum, any"
   ]
  },
  {
   "cell_type": "code",
   "execution_count": 2,
   "metadata": {},
   "outputs": [],
   "source": [
    "def example_if(num):\n",
    "    if num == 4:\n",
    "        print(\"num is 4\")\n",
    "    elif num == 5:\n",
    "        print(\"num is 5\")\n",
    "    elif num == 6:\n",
    "        print(\"num is 6\")\n",
    "    else:\n",
    "        print(\"num\")"
   ]
  },
  {
   "cell_type": "code",
   "execution_count": 4,
   "metadata": {},
   "outputs": [
    {
     "name": "stdout",
     "output_type": "stream",
     "text": [
      "num is 4\n",
      "num is 5\n",
      "num\n"
     ]
    }
   ],
   "source": [
    "# multiple statements in one line with \";\"\n",
    "example_if(4); example_if(5); example_if(10)"
   ]
  },
  {
   "cell_type": "code",
   "execution_count": null,
   "metadata": {},
   "outputs": [],
   "source": [
    "sum([2.0, 3, 0])"
   ]
  },
  {
   "cell_type": "code",
   "execution_count": null,
   "metadata": {},
   "outputs": [],
   "source": [
    "a = [[1.0, 2.0, 3.0], [4.0, 5.0, 6.0]]\n",
    "a[0][0]"
   ]
  },
  {
   "cell_type": "markdown",
   "metadata": {},
   "source": [
    "# Introduction to numpy\n",
    "\n",
    "- Python, no built-in library for:\n",
    "    - n-dimensional array\n",
    "    - matrices, vectors\n",
    "    - linear algebra\n",
    "    - numerical integration\n",
    "    - etc.\n",
    "- Matlab - built-in\n",
    "- Fortran and C, libraries exist\n",
    "- numpy: implements these features\n",
    "- storage of datafiles, row vs column major order\n",
    "\n",
    "\n",
    "<p><a href=\"https://commons.wikimedia.org/wiki/File:Row_and_column_major_order.svg#/media/File:Row_and_column_major_order.svg\"><img src=\"https://upload.wikimedia.org/wikipedia/commons/4/4d/Row_and_column_major_order.svg\" alt=\"Row and column major order.svg\" height=\"250\" width=\"200\"></a><br>By <a href=\"//commons.wikimedia.org/wiki/User:Cmglee\" title=\"User:Cmglee\">Cmglee</a> - <span class=\"int-own-work\" lang=\"en\">Own work</span>, <a href=\"https://creativecommons.org/licenses/by-sa/4.0\" title=\"Creative Commons Attribution-Share Alike 4.0\">CC BY-SA 4.0</a>, <a href=\"https://commons.wikimedia.org/w/index.php?curid=65107030\">Link</a></p>\n",
    "\n",
    "# Numpy basics\n",
    "\n",
    "## Loading packages in Python"
   ]
  },
  {
   "cell_type": "code",
   "execution_count": 1,
   "metadata": {},
   "outputs": [],
   "source": [
    "import numpy as np"
   ]
  },
  {
   "cell_type": "markdown",
   "metadata": {},
   "source": [
    "Now all of numpys functionality is available."
   ]
  },
  {
   "cell_type": "markdown",
   "metadata": {},
   "source": [
    "## Creating arrays\n",
    "\n",
    "- from lists, tuples\n",
    "- using numpy functions (`np.zeros`, `np.ones`, `np.arange`, `np.linspace`, `np.empty`)\n",
    "- specifying dtype"
   ]
  },
  {
   "cell_type": "code",
   "execution_count": null,
   "metadata": {},
   "outputs": [],
   "source": [
    "a = np.array([[1, 2, 3], [4, 5, 6]], order=\"F\")\n",
    "print(a, \"\\n\", a.flatten(order=\"K\"))"
   ]
  },
  {
   "cell_type": "markdown",
   "metadata": {},
   "source": [
    "## Array attributes\n",
    "\n",
    "ndim, shape, size, dtype, itemsize, data"
   ]
  },
  {
   "cell_type": "code",
   "execution_count": null,
   "metadata": {},
   "outputs": [],
   "source": [
    "a.dtype"
   ]
  },
  {
   "cell_type": "code",
   "execution_count": null,
   "metadata": {},
   "outputs": [],
   "source": [
    "a = np.array([[1, 2, 3], [4, 5, 0]], dtype=\"int64\")\n",
    "print(a, \"\\n\", a.flatten(order=\"K\"), a.dtype)\n",
    "a[1,2] -= 1\n",
    "# a[1,2] = a[1,2] - 1\n",
    "a"
   ]
  },
  {
   "cell_type": "code",
   "execution_count": null,
   "metadata": {},
   "outputs": [],
   "source": [
    "a.itemsize * a.size"
   ]
  },
  {
   "cell_type": "code",
   "execution_count": null,
   "metadata": {},
   "outputs": [],
   "source": [
    "a.size"
   ]
  },
  {
   "cell_type": "markdown",
   "metadata": {},
   "source": [
    "## Basic arithmetic\n",
    "\n",
    "+, - , \\*, \\**"
   ]
  },
  {
   "cell_type": "code",
   "execution_count": null,
   "metadata": {},
   "outputs": [],
   "source": [
    "b = np.array([ii for ii in range(3)], dtype=\"float64\")\n",
    "b"
   ]
  },
  {
   "cell_type": "code",
   "execution_count": null,
   "metadata": {},
   "outputs": [],
   "source": [
    "np.dot(a, b)"
   ]
  },
  {
   "cell_type": "code",
   "execution_count": null,
   "metadata": {},
   "outputs": [],
   "source": [
    "np.dot([1, 2, 3], [1, 2, 3])"
   ]
  },
  {
   "cell_type": "code",
   "execution_count": null,
   "metadata": {},
   "outputs": [],
   "source": [
    "c = a + b\n",
    "c"
   ]
  },
  {
   "cell_type": "code",
   "execution_count": null,
   "metadata": {},
   "outputs": [],
   "source": [
    "c.dtype"
   ]
  },
  {
   "cell_type": "code",
   "execution_count": null,
   "metadata": {},
   "outputs": [],
   "source": [
    "c[0,:] # c(1,:)"
   ]
  },
  {
   "cell_type": "code",
   "execution_count": null,
   "metadata": {},
   "outputs": [],
   "source": [
    "d = c[:,0]\n",
    "d"
   ]
  },
  {
   "cell_type": "code",
   "execution_count": null,
   "metadata": {},
   "outputs": [],
   "source": [
    "d[0] = 0.0; c"
   ]
  },
  {
   "cell_type": "code",
   "execution_count": null,
   "metadata": {},
   "outputs": [],
   "source": [
    "d = c[:,0].copy()\n",
    "d"
   ]
  },
  {
   "cell_type": "code",
   "execution_count": null,
   "metadata": {},
   "outputs": [],
   "source": [
    "d[0] = 0.0; c"
   ]
  },
  {
   "cell_type": "markdown",
   "metadata": {},
   "source": [
    "# Manipulating arrays\n",
    "\n",
    "## Indexing\n",
    "\n",
    "- basics\n",
    "- boolean"
   ]
  },
  {
   "cell_type": "code",
   "execution_count": null,
   "metadata": {},
   "outputs": [],
   "source": [
    "t = c < 5.0\n",
    "print(t, t.dtype)"
   ]
  },
  {
   "cell_type": "code",
   "execution_count": null,
   "metadata": {},
   "outputs": [],
   "source": [
    "c[(c < 5.0) & (c > 2.0)], c"
   ]
  },
  {
   "cell_type": "markdown",
   "metadata": {},
   "source": [
    "## Reshaping, views and copies"
   ]
  },
  {
   "cell_type": "code",
   "execution_count": null,
   "metadata": {},
   "outputs": [],
   "source": [
    "np.reshape(c, (3,2))"
   ]
  },
  {
   "cell_type": "code",
   "execution_count": null,
   "metadata": {},
   "outputs": [],
   "source": [
    "e = c.reshape(6, order=\"F\"); e.shape"
   ]
  },
  {
   "cell_type": "code",
   "execution_count": null,
   "metadata": {},
   "outputs": [],
   "source": [
    "e.base, e.base == c"
   ]
  },
  {
   "cell_type": "code",
   "execution_count": null,
   "metadata": {},
   "outputs": [],
   "source": [
    "np.all(e.base == c)"
   ]
  },
  {
   "cell_type": "code",
   "execution_count": null,
   "metadata": {},
   "outputs": [],
   "source": [
    "np.all(c > 5.0)"
   ]
  },
  {
   "cell_type": "markdown",
   "metadata": {},
   "source": [
    "## Linear algebra\n",
    "\n",
    "- `np.linalg.solve`"
   ]
  },
  {
   "cell_type": "code",
   "execution_count": null,
   "metadata": {},
   "outputs": [],
   "source": [
    "lin, rng = np.linalg, np.random"
   ]
  },
  {
   "cell_type": "code",
   "execution_count": null,
   "metadata": {},
   "outputs": [],
   "source": [
    "k, l = rng.randn(4,5) + 1, rng.rand(4)\n",
    "k, l"
   ]
  },
  {
   "cell_type": "code",
   "execution_count": null,
   "metadata": {},
   "outputs": [],
   "source": [
    "help(lin.lstsq)"
   ]
  },
  {
   "cell_type": "code",
   "execution_count": null,
   "metadata": {},
   "outputs": [],
   "source": [
    "ll = lin.lstsq(k, l)[0]"
   ]
  },
  {
   "cell_type": "markdown",
   "metadata": {},
   "source": [
    "$\\mathrm{RMS} = \\sqrt{\\left(\\sum_i^N x_i^2 \\right) N^{-1}}$"
   ]
  },
  {
   "cell_type": "code",
   "execution_count": 5,
   "metadata": {},
   "outputs": [],
   "source": [
    "def rms(array):\n",
    "    return np.sqrt(np.sum(array**2) / array.size)"
   ]
  },
  {
   "cell_type": "code",
   "execution_count": null,
   "metadata": {},
   "outputs": [],
   "source": [
    "rms(k @ ll - l)"
   ]
  },
  {
   "cell_type": "markdown",
   "metadata": {},
   "source": [
    "$f(x,a) = a_0 + a_1 x^1 + a_2 x^2$"
   ]
  },
  {
   "cell_type": "markdown",
   "metadata": {},
   "source": [
    "Helper $\\LaTeX$ commands:\n",
    "\n",
    "```\n",
    "$\\newcommand\\parf[1] {\n",
    "    \\frac{\\partial f(x_i, A, \\lambda, \\phi)}{\\partial #1}\n",
    "}$\n",
    "\n",
    "$\\def\\argf{\\lambda x_i + \\phi}$\n",
    "```\n",
    "\n",
    "$\\newcommand\\parf[1] {\n",
    "    \\frac{\\partial f(x_i, A, \\lambda, \\phi)}{\\partial #1}\n",
    "}$\n",
    "\n",
    "$\\def\\argf{\\lambda x_i + \\phi}$"
   ]
  },
  {
   "cell_type": "markdown",
   "metadata": {},
   "source": [
    "$f(x_i, A, \\lambda, \\phi) = A \\sin (\\argf)$\n",
    "\n",
    "$D_{i0} = \\parf{A} = \\sin (\\argf)$\n",
    "\n",
    "$D_{i1} = \\parf{\\lambda} = A x_i \\cos (\\argf)$\n",
    "\n",
    "$D_{i2} = \\parf{\\phi} = A \\sin (\\argf)$"
   ]
  },
  {
   "cell_type": "markdown",
   "metadata": {},
   "source": [
    "# Example usage: Polynom fitting, Introduction to Matplotlib"
   ]
  },
  {
   "cell_type": "code",
   "execution_count": null,
   "metadata": {},
   "outputs": [],
   "source": [
    "x = np.linspace(0.0, 10.0, 25)\n",
    "c = [2.0, 3.5, 0.2]\n",
    "y = c[0] + c[1] * x + c[2] * x**2\n",
    "# y = c[0] x**0 + c[1] * x**1 + c[2] * x**2\n",
    "y += rng.rand(y.shape[0])"
   ]
  },
  {
   "cell_type": "code",
   "execution_count": null,
   "metadata": {},
   "outputs": [],
   "source": [
    "def polyfit(x, y, deg):\n",
    "    design = np.empty((x.size, deg + 1))\n",
    "    \n",
    "    design[:,0] = 1.0\n",
    "    design[:,1] = x\n",
    "    \n",
    "    for ii in range(2, deg + 1):\n",
    "        design[:,ii] = x**ii\n",
    "    \n",
    "    \n",
    "    return lin.lstsq(design, y)[0]"
   ]
  },
  {
   "cell_type": "code",
   "execution_count": null,
   "metadata": {},
   "outputs": [],
   "source": [
    "p = polyfit(x, y, 2)\n",
    "p, c"
   ]
  },
  {
   "cell_type": "code",
   "execution_count": null,
   "metadata": {},
   "outputs": [],
   "source": [
    "# p[0], p[1]\n",
    "# p[0:2] = p[:2]\n",
    "\n",
    "p[0:], p[1:], p[:2], p[2:0:-1], p[::-1]"
   ]
  },
  {
   "cell_type": "code",
   "execution_count": null,
   "metadata": {},
   "outputs": [],
   "source": [
    "yy = np.polyval(p[::-1], x)"
   ]
  },
  {
   "cell_type": "code",
   "execution_count": null,
   "metadata": {},
   "outputs": [],
   "source": [
    "rms(yy - y)"
   ]
  },
  {
   "cell_type": "code",
   "execution_count": null,
   "metadata": {},
   "outputs": [],
   "source": [
    "import matplotlib.pyplot as plt\n",
    "%matplotlib inline"
   ]
  },
  {
   "cell_type": "code",
   "execution_count": null,
   "metadata": {},
   "outputs": [],
   "source": [
    "f = plt.figure(figsize=(6, 6))\n",
    "\n",
    "plt.plot(x, y, \"*\", label=\"Data\")\n",
    "plt.plot(x, yy, \"-\", label=\"Fit\")\n",
    "plt.legend()\n",
    "plt.xlabel(\"x\")\n",
    "plt.ylabel(\"y\")\n",
    "\n",
    "f.savefig(\"fit.png\")"
   ]
  },
  {
   "cell_type": "markdown",
   "metadata": {},
   "source": [
    "# Numpy FFT\n",
    "\n",
    "Coming soon"
   ]
  }
 ],
 "metadata": {
  "kernelspec": {
   "display_name": "Python 3",
   "language": "python",
   "name": "python3"
  },
  "language_info": {
   "codemirror_mode": {
    "name": "ipython",
    "version": 3
   },
   "file_extension": ".py",
   "mimetype": "text/x-python",
   "name": "python",
   "nbconvert_exporter": "python",
   "pygments_lexer": "ipython3",
   "version": "3.7.1"
  }
 },
 "nbformat": 4,
 "nbformat_minor": 2
}
