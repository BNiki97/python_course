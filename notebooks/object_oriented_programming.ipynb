{
 "cells": [
  {
   "cell_type": "markdown",
   "metadata": {},
   "source": [
    "# Introduction to Python object oriented programming\n",
    "\n",
    "## Motivating example"
   ]
  },
  {
   "cell_type": "code",
   "execution_count": 4,
   "metadata": {},
   "outputs": [],
   "source": [
    "import matplotlib.pyplot as plt\n",
    "import numpy as np"
   ]
  },
  {
   "cell_type": "code",
   "execution_count": 5,
   "metadata": {},
   "outputs": [],
   "source": [
    "depth = np.r_[100.0, 234.3, 345.12, 474.1]"
   ]
  },
  {
   "cell_type": "code",
   "execution_count": 6,
   "metadata": {},
   "outputs": [],
   "source": [
    "porosity, flux = np.random.randn(4), 4.5 * np.random.randn(4)"
   ]
  },
  {
   "cell_type": "code",
   "execution_count": 13,
   "metadata": {},
   "outputs": [],
   "source": [
    "well1 = {\n",
    "    \"depth\": depth,\n",
    "    \"porosity\": porosity,\n",
    "    \"n0_flux\": flux,\n",
    "    \n",
    "    \"units\" : {\n",
    "        \"depth\": \"m\",\n",
    "        \"porosity\": \"Ratio\",\n",
    "        \"n0_flux\": \"Arbitrary Units\"\n",
    "    }\n",
    "}\n",
    "well2 = {\"depth\": depth, \"porosity\": None, \"n0_flux\": flux}"
   ]
  },
  {
   "cell_type": "code",
   "execution_count": 9,
   "metadata": {},
   "outputs": [
    {
     "data": {
      "text/plain": [
       "[<matplotlib.lines.Line2D at 0x7f277a364f28>]"
      ]
     },
     "execution_count": 9,
     "metadata": {},
     "output_type": "execute_result"
    },
    {
     "data": {
      "image/png": "[encoded data removed]",
      "text/plain": [
       "<Figure size 432x288 with 1 Axes>"
      ]
     },
     "metadata": {
      "needs_background": "light"
     },
     "output_type": "display_data"
    }
   ],
   "source": [
    "plt.plot(well1[\"depth\"], well1[\"porosity\"])"
   ]
  },
  {
   "cell_type": "code",
   "execution_count": 16,
   "metadata": {},
   "outputs": [],
   "source": [
    "def plot_well(well, value, symbol=\"*\", **kwargs):\n",
    "    plt.xlabel(\"Depth [%s]\" % well[\"units\"][\"depth\"])\n",
    "    plt.ylabel(\"%s [%s]\" % (value, well[\"units\"][value]))\n",
    "    plt.plot(well[\"depth\"], well[value], symbol, **kwargs)"
   ]
  },
  {
   "cell_type": "code",
   "execution_count": 17,
   "metadata": {},
   "outputs": [
    {
     "data": {
      "image/png": "[encoded data removed]",
      "text/plain": [
       "<Figure size 432x288 with 1 Axes>"
      ]
     },
     "metadata": {
      "needs_background": "light"
     },
     "output_type": "display_data"
    }
   ],
   "source": [
    "plot_well(well1, \"porosity\", color=\"green\")"
   ]
  },
  {
   "cell_type": "code",
   "execution_count": 19,
   "metadata": {},
   "outputs": [
    {
     "data": {
      "image/png": "[encoded data removed]",
      "text/plain": [
       "<Figure size 432x288 with 1 Axes>"
      ]
     },
     "metadata": {
      "needs_background": "light"
     },
     "output_type": "display_data"
    }
   ],
   "source": [
    "plot_well(well1, \"n0_flux\", symbol=\"o\", color=\"red\")"
   ]
  },
  {
   "cell_type": "code",
   "execution_count": 76,
   "metadata": {},
   "outputs": [],
   "source": [
    "class Well(object):\n",
    "    def __init__(self, depth, coord=None, data=None, id=None):\n",
    "        self.depth, self.data, self.coord, self.id = depth, data, coord, id\n",
    "        \n",
    "        self.units = {\n",
    "            \"depth\": \"m\",\n",
    "            \"porosity\": \"Ratio\",\n",
    "            \"n0_flux\": \"Arbitrary Units\"\n",
    "        }\n",
    "\n",
    "    \n",
    "    def plot(self, value, symbol=\"*\", **kwargs):\n",
    "        plt.xlabel(\"Depth [%s]\" % self.units[\"depth\"])\n",
    "        plt.ylabel(\"%s [%s]\" % (value, self.units[value]))\n",
    "        plt.plot(self.depth, self.data[value], symbol, **kwargs)    \n",
    "    \n",
    "    \n",
    "    def interpolate(self, value, depths):\n",
    "        return np.interp(depths, self.depth , self.data[value])\n",
    "    \n",
    "    def __str__(self):\n",
    "        return \"Well id: %s, at coordinates: %g, %g\" \\\n",
    "               % (self.id, self.coord[0], self.coord[1])\n",
    "    \n",
    "    \n",
    "    def __del__(self):\n",
    "        print(\"Calling Well.__del__\")\n",
    "    "
   ]
  },
  {
   "cell_type": "code",
   "execution_count": 77,
   "metadata": {},
   "outputs": [],
   "source": [
    "well = Well(depth, data={\"porosity\": porosity}, id=102, coord=(302.12, 1006.8))"
   ]
  },
  {
   "cell_type": "code",
   "execution_count": 41,
   "metadata": {},
   "outputs": [
    {
     "data": {
      "text/plain": [
       "100.0"
      ]
     },
     "execution_count": 41,
     "metadata": {},
     "output_type": "execute_result"
    }
   ],
   "source": [
    "well.depth.min()"
   ]
  },
  {
   "cell_type": "code",
   "execution_count": 75,
   "metadata": {},
   "outputs": [
    {
     "data": {
      "text/plain": [
       "((4,), (4,))"
      ]
     },
     "execution_count": 75,
     "metadata": {},
     "output_type": "execute_result"
    }
   ],
   "source": [
    "well.depth.shape, well.data[\"porosity\"].shape"
   ]
  },
  {
   "cell_type": "code",
   "execution_count": 38,
   "metadata": {},
   "outputs": [
    {
     "data": {
      "image/png": "[encoded data removed]",
      "text/plain": [
       "<Figure size 432x288 with 1 Axes>"
      ]
     },
     "metadata": {
      "needs_background": "light"
     },
     "output_type": "display_data"
    }
   ],
   "source": [
    "well.plot(\"porosity\")\n",
    "Well.plot(well, \"porosity\")"
   ]
  },
  {
   "cell_type": "code",
   "execution_count": 80,
   "metadata": {},
   "outputs": [],
   "source": [
    "d = np.r_[100.0:400:50j]\n",
    "poro = well.interpolate(\"porosity\", d)"
   ]
  },
  {
   "cell_type": "code",
   "execution_count": 84,
   "metadata": {},
   "outputs": [
    {
     "data": {
      "text/plain": [
       "<matplotlib.legend.Legend at 0x7f277968c748>"
      ]
     },
     "execution_count": 84,
     "metadata": {},
     "output_type": "execute_result"
    },
    {
     "data": {
      "image/png": "[encoded data removed]",
      "text/plain": [
       "<Figure size 432x288 with 1 Axes>"
      ]
     },
     "metadata": {
      "needs_background": "light"
     },
     "output_type": "display_data"
    }
   ],
   "source": [
    "well.plot(\"porosity\", label=\"Data\")\n",
    "plt.plot(d, poro, label=\"Interpolated\")\n",
    "plt.legend()"
   ]
  },
  {
   "cell_type": "code",
   "execution_count": 68,
   "metadata": {},
   "outputs": [
    {
     "name": "stdout",
     "output_type": "stream",
     "text": [
      "Well id: 102, at coordinates: 302.12, 1006.8\n"
     ]
    }
   ],
   "source": [
    "print(well)"
   ]
  },
  {
   "cell_type": "code",
   "execution_count": 51,
   "metadata": {},
   "outputs": [
    {
     "data": {
      "text/plain": [
       "'Well object.'"
      ]
     },
     "execution_count": 51,
     "metadata": {},
     "output_type": "execute_result"
    }
   ],
   "source": [
    "str(well)\n",
    "well.__str__()"
   ]
  },
  {
   "cell_type": "code",
   "execution_count": 60,
   "metadata": {},
   "outputs": [],
   "source": [
    "class Proba(object):\n",
    "    def __init__(self, num):\n",
    "        self.num = num\n",
    "    \n",
    "    def __str__(self):\n",
    "        return \"Number is %d\" % self.num"
   ]
  },
  {
   "cell_type": "code",
   "execution_count": 61,
   "metadata": {},
   "outputs": [],
   "source": [
    "a = Proba(5)"
   ]
  },
  {
   "cell_type": "code",
   "execution_count": 62,
   "metadata": {},
   "outputs": [
    {
     "name": "stdout",
     "output_type": "stream",
     "text": [
      "a : Number is 5 \n"
     ]
    }
   ],
   "source": [
    "print(\"a : %s \" % a)"
   ]
  },
  {
   "cell_type": "code",
   "execution_count": 55,
   "metadata": {},
   "outputs": [
    {
     "name": "stdout",
     "output_type": "stream",
     "text": [
      "well: Well object.\n"
     ]
    }
   ],
   "source": [
    "print(\"well: %s\" % well)"
   ]
  },
  {
   "cell_type": "code",
   "execution_count": 52,
   "metadata": {},
   "outputs": [],
   "source": [
    "num = 5"
   ]
  },
  {
   "cell_type": "code",
   "execution_count": 53,
   "metadata": {},
   "outputs": [
    {
     "data": {
      "text/plain": [
       "'5'"
      ]
     },
     "execution_count": 53,
     "metadata": {},
     "output_type": "execute_result"
    }
   ],
   "source": [
    "str(num)"
   ]
  },
  {
   "cell_type": "code",
   "execution_count": 54,
   "metadata": {},
   "outputs": [
    {
     "data": {
      "text/plain": [
       "'5'"
      ]
     },
     "execution_count": 54,
     "metadata": {},
     "output_type": "execute_result"
    }
   ],
   "source": [
    "num.__str__()"
   ]
  },
  {
   "cell_type": "code",
   "execution_count": 44,
   "metadata": {},
   "outputs": [
    {
     "name": "stdout",
     "output_type": "stream",
     "text": [
      "Calling Well.__del__\n"
     ]
    }
   ],
   "source": [
    "del well"
   ]
  }
 ],
 "metadata": {
  "kernelspec": {
   "display_name": "Python 3",
   "language": "python",
   "name": "python3"
  },
  "language_info": {
   "codemirror_mode": {
    "name": "ipython",
    "version": 3
   },
   "file_extension": ".py",
   "mimetype": "text/x-python",
   "name": "python",
   "nbconvert_exporter": "python",
   "pygments_lexer": "ipython3",
   "version": "3.7.1"
  }
 },
 "nbformat": 4,
 "nbformat_minor": 2
}
