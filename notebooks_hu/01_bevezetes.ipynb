{
 "cells": [
  {
   "cell_type": "markdown",
   "metadata": {},
   "source": [
    "# Beveztés a python programozási nyelvhez\n",
    "\n",
    "A python egy\n",
    "\n",
    "- általános célú (nem csak tudományos programozásra alkalmas nyelv, lehet vele szervert, fájlkezelőt, készíteni)\n",
    "- magas szintű (általános, absztrakt, algoritmusok írása könnyebb gyorsabb),\n",
    "- értelmezett (nem fordított, mint C, C++ vagy Fortran),\n",
    "- dinamikus típusos (a változóknak nincs típusa, mind objektumok),\n",
    "- garbage collected (szemtgyűjtéses?, automatikus memóriakezelés, haladó programozóknak egy [cikk](https://stackify.com/python-garbage-collection/) a technikai részletekről)\n",
    "- objektum orientált (lásd objektum orientált programozás notebook).\n",
    "\n",
    "programozási nyelv. Ezeket a tulajdonságokat nem kell feltétlenül megjegyezni, de érdemes észben tartani. Amint látni fogjuk a python-al viszonylag könnyű programokat írni, a nyelv  szintaxisa rendkívül kifelyező. Mivel a változóknak nincs definiált típusa, a különböző függvények, algoritmusok implementálása rugalmasan elvégezhető.\n",
    "\n",
    "Ebben a notebook-ban először röviden megvizsgáljuk azokkal a tényezőkkel, amiknek köszönhetően manapság a python nyelvet használják dominánsan tudományos programozási feladatok megoldására. Egyszerű példákon keresztül megismerkedünk a nyelv szintaxisával."
   ]
  },
  {
   "cell_type": "markdown",
   "metadata": {},
   "source": [
    "## Miért alkalmas a python nyelv tudományos programozási porblémák megoldására?\n",
    "\n",
    "### Értelmezett és fordított programozási nyelvek\n",
    "\n",
    "Egy rövid kitérő az értelmezőkről (intepreters) és fordítókról (compilers). A különböző programozási nyelveket többféleképpen kategorizálhatjuk. Az egyik kategorizálás szerint, az egyszerűség kedvéért nem részletezve a technikai megfontolásokat, azt mondhatjuk, hogy vannak értelmezett (interpreted) és fordított (compiled) programozási nyelvek. (A teljesség kedvéért meg kell említsem a C# és Java progrmozási nyelveket; ezek kb. a fordított és az értelmezett nyelvek közé szokták sorolni.)\n",
    "\n",
    "Az értelmezett nyelvek esetén egy program, az értelmező (intepreter) a forráskódot soronként beolvassa, értelmezi és végrehajtja. Ilyen programnyelv pl. a Matlab vagy a Python.\n",
    "\n",
    "A fordított programnyelveket forráskódját egy másikfajta program, a fordító (compiler), gépi kódra fordítja és futtatható programot vagy más programokban felhasználható könyvtárat készít belőle. Pl. C, C++, Fortran.\n",
    "\n",
    "A folyamatot az alábbi ábra szemlélteti.\n",
    "\n",
    "![interpreted_vs_compiled](https://2.bp.blogspot.com/-duV6K80iefg/V8QrNJWoAdI/AAAAAAAAB18/5DHOXl1ajnsEVRBUmB5nSXfJbsw5ScX3wCLcB/s400/img.png)\n",
    "\n",
    "Elméleti szempontból nincsenek értelmezett és fordított programozási nyelvek, azaz bármely programozási nyelvhez készíthatő értelmező program (pl. [egy C értelmező](https://gitlab.com/zsaleeba/picoc)) vagy fordító (pl. [Cython fordító](https://cython.org/), mely először C forráskódot generál python forrásfájlokból, melyet késöbb egy C fordítóval lefordít).\n",
    "\n",
    "Továbbá egy adott nyelvhez akár többfajta értelmező program is készíthető. Python esetén:\n",
    "- a C-ben megírt referencia értelmező, a [CPython](https://github.com/python/cpython); nem összekeverendő a Cython-nal.\n",
    "- Java-ban ([Jython](https://www.jython.org/)) és C#-ban ([IronPython](https://ironpython.net/)) írt értelmező\n",
    "\n",
    "A témáről bővebben [ebben](https://www.thoughtco.com/about-compilers-and-interpreters-958276) a cikkben olvashattok.\n",
    "\n",
    "Általánosan elmondható:\n",
    "- az értelmezett nyelvek kevésbé hatákonyak (számítások több memóriát vesznek igénybe és tovább tartanak),\n",
    "- fordítókat nehezebb készíteni, mint értelmezőket,\n",
    "- az értelmezett nyelvekkel gyorsabb a problémamegoldás (nem mindig, erről késöbb lesz szó),\n",
    "- az értelmezett nyelvek általában képesek fordított könyvtárakat (C, C++, Fortran segítségével írt könyvtárak) meghívni egy FFI (Foreign Function Interface) segítségével.\n",
    "\n",
    "A python értelmezők általában nem hatékonyak, maga a python nyelv nem igazán alkalmas numerikus számítások elvégzésére. Akkor mégis miért terjedt el a python használata ezen a területen? Amint korábban említettem, az értelmezett nyelvek általában képesek fordított nyelven megírt könyvtárak függvényeit meghívni.\n",
    "\n",
    "Az legelterjedtebb python-hoz készített numerikus könyvtárak (numpy, scipy) nagy részét nem python-ban írták. Ezen könyvtárakban a számításigényes feladatokhoz (pl. lineáris algebrai feladatok, differenciális egyenletek megoldása) írt függvények tipikusan C-ben, C++-ban vagy Fortran-ban vannak implementálva. Ezeket a függvényeket a python csak meghívja, maga a python kód csak \"ragasztóként\" (glue-code) funkcionál, mely összefűzi és könnyen használhatóvá teszi az egyébként körülményesen használható függvényeket."
   ]
  },
  {
   "cell_type": "markdown",
   "metadata": {},
   "source": [
    "## A python értelmező (python shell) és maga a nyelv\n",
    "\n",
    "Az elméleti háttér után térjünk át a gyakorlatra. Geofizikusként valószínűleg nagyrészt Matlab-bal van tapasztalatotok. Jó hír, hogy a python is hasonlóan működik, mint a Matlab, azaz elindítva egy értelmezőt, azonnal elkezdhetünk kódolni."
   ]
  },
  {
   "cell_type": "markdown",
   "metadata": {},
   "source": [
    "### A Python mint egyszerű számológép\n",
    "\n",
    "Matlabhoz hasonlóan, a Python is képes egyszerű számológépként funkcionálni."
   ]
  },
  {
   "cell_type": "code",
   "execution_count": 1,
   "metadata": {},
   "outputs": [
    {
     "data": {
      "text/plain": [
       "10"
      ]
     },
     "execution_count": 1,
     "metadata": {},
     "output_type": "execute_result"
    }
   ],
   "source": [
    "5 + 5"
   ]
  },
  {
   "cell_type": "markdown",
   "metadata": {},
   "source": [
    "Változóknak így adhatunk értéket:"
   ]
  },
  {
   "cell_type": "code",
   "execution_count": 2,
   "metadata": {},
   "outputs": [],
   "source": [
    "a = 5"
   ]
  },
  {
   "cell_type": "markdown",
   "metadata": {},
   "source": [
    "A változó értékének kiírása:"
   ]
  },
  {
   "cell_type": "code",
   "execution_count": 3,
   "metadata": {},
   "outputs": [
    {
     "data": {
      "text/plain": [
       "5"
      ]
     },
     "execution_count": 3,
     "metadata": {},
     "output_type": "execute_result"
    }
   ],
   "source": [
    "a"
   ]
  },
  {
   "cell_type": "markdown",
   "metadata": {},
   "source": [
    "Művelet elvégzése változóval:"
   ]
  },
  {
   "cell_type": "code",
   "execution_count": 4,
   "metadata": {},
   "outputs": [
    {
     "data": {
      "text/plain": [
       "10"
      ]
     },
     "execution_count": 4,
     "metadata": {},
     "output_type": "execute_result"
    }
   ],
   "source": [
    "a + 5"
   ]
  },
  {
   "cell_type": "markdown",
   "metadata": {},
   "source": [
    "Az eredmény kiírásának mellőzése:"
   ]
  },
  {
   "cell_type": "code",
   "execution_count": 5,
   "metadata": {},
   "outputs": [],
   "source": [
    "a + 5;"
   ]
  },
  {
   "cell_type": "markdown",
   "metadata": {},
   "source": [
    "**Figyelem!** A pontos vesszőt csak az utolsó sor esetén érdemes használni, amikor nem akarjuk kiíratni a végeredményt, tehát nem úgy működik mint a Matlab. Az értelmező csak az utolsó sor eredényét írja ki."
   ]
  },
  {
   "cell_type": "code",
   "execution_count": 6,
   "metadata": {},
   "outputs": [
    {
     "data": {
      "text/plain": [
       "6"
      ]
     },
     "execution_count": 6,
     "metadata": {},
     "output_type": "execute_result"
    }
   ],
   "source": [
    "a + 3\n",
    "a + 2\n",
    "a + 1"
   ]
  },
  {
   "cell_type": "markdown",
   "metadata": {},
   "source": [
    "A már felhasznált változóknak bármikor más értéket adhatunk, ekkor a korábbi értéküket elvesztik az újradefiniált változók."
   ]
  },
  {
   "cell_type": "code",
   "execution_count": 8,
   "metadata": {},
   "outputs": [
    {
     "data": {
      "text/plain": [
       "'aaa'"
      ]
     },
     "execution_count": 8,
     "metadata": {},
     "output_type": "execute_result"
    }
   ],
   "source": [
    "a = \"aaa\"\n",
    "a"
   ]
  },
  {
   "cell_type": "markdown",
   "metadata": {},
   "source": [
    "### Függvények definiálása, kód blokk\n",
    "\n",
    "A programozás egyik alap építőeleme a függvény. Függvények segítségével lehetővé tesszük a függvényen belül implementált algoritmus újrafelhasználhatóságát.\n",
    "\n",
    "Függvények definiálás:\n",
    "- a függvénytartományt nem kapcsos zárójelek között kód (`{` és `}`; pl. C) és nem a `function` és `end` kulcsszavak között kód (pl. Matlab) jelzi\n",
    "- a függvénytartomány kezdetét és végét a \"behúzás\" (indentation) karakterek jelzik\n",
    "- komment karakter `#` (Matlab `%`-el ekvivalens)\n",
    "\n",
    "Szemléltető példa:\n",
    "- függvény definiálás kulcsszava `def`\n",
    "- `add` a függvény neve\n",
    "- `a` és `b` a függvény argumentumai\n",
    "- `:` jelzi a függvény kezdetét\n",
    "- `return` visszatérés a függvényből egy adott értékkel"
   ]
  },
  {
   "cell_type": "code",
   "execution_count": 12,
   "metadata": {},
   "outputs": [
    {
     "name": "stdout",
     "output_type": "stream",
     "text": [
      "Hello!\n"
     ]
    }
   ],
   "source": [
    "def add(a, b):\n",
    "    print(\"In function add.\")\n",
    "    # komment a függvényen belül\n",
    "    \n",
    "    return a + b\n",
    "# függvény definíció véget ért\n",
    "\n",
    "# ez a rész már nem része a függvénynek\n",
    "print(\"Hello!\")"
   ]
  },
  {
   "cell_type": "markdown",
   "metadata": {},
   "source": [
    "A függvénytartományt jelen esetben 4 darab space karakterrel definiáljuk. A 4 space helyett használhattunk volna 1 db tabulátor karaktert is. A fontos az, hogy a behúzás karaktereket konzisztensen használjuk, tehát ne keverjünk tabulátor karaktert space karakterrel."
   ]
  },
  {
   "cell_type": "code",
   "execution_count": 11,
   "metadata": {},
   "outputs": [
    {
     "name": "stdout",
     "output_type": "stream",
     "text": [
      "In function add.\n"
     ]
    },
    {
     "data": {
      "text/plain": [
       "11"
      ]
     },
     "execution_count": 11,
     "metadata": {},
     "output_type": "execute_result"
    }
   ],
   "source": [
    "add(5, 6)"
   ]
  },
  {
   "cell_type": "markdown",
   "metadata": {},
   "source": [
    "Az ekvivalens Matlab kód:\n",
    "\n",
    "```matlab\n",
    "function [c] = add(a, b)\n",
    "    display('In function add.');\n",
    "    \n",
    "    c = a + b;\n",
    "end\n",
    "\n",
    "add(5, 6)\n",
    "```"
   ]
  },
  {
   "cell_type": "markdown",
   "metadata": {},
   "source": [
    "### Feltételek kezelése - `if`, `else`, `elif`\n",
    "\n",
    "A különböző feltételek kezelésére rendelkezésre áll az `if` és `else` kulcsszó. A függvénydefinícióhoz hasonlóan behúzás karakterek segítségével használhatóak. \n",
    "\n",
    "Az `and` és az `or` kulcsszavak a Matlab `&&` és `||` operátoraival ekvivalensek.\n",
    "\n",
    "Egy szemléltető példa."
   ]
  },
  {
   "cell_type": "code",
   "execution_count": 17,
   "metadata": {},
   "outputs": [],
   "source": [
    "def condition(num):\n",
    "    if num > 5 and num <= 10:\n",
    "        print(\"Number is larger than 5 but smaller or equal to 10.\")\n",
    "    #if vége\n",
    "    elif num > 10:\n",
    "        # elif = else if\n",
    "        print(\"Number is larger than 10.\")\n",
    "    else:\n",
    "        print(\"Number is \", num)"
   ]
  },
  {
   "cell_type": "code",
   "execution_count": 18,
   "metadata": {},
   "outputs": [
    {
     "name": "stdout",
     "output_type": "stream",
     "text": [
      "Number is:  3\n"
     ]
    }
   ],
   "source": [
    "condition(3)"
   ]
  },
  {
   "cell_type": "code",
   "execution_count": 19,
   "metadata": {},
   "outputs": [
    {
     "name": "stdout",
     "output_type": "stream",
     "text": [
      "Number is larger than 10.\n"
     ]
    }
   ],
   "source": [
    "condition(11)"
   ]
  },
  {
   "cell_type": "code",
   "execution_count": 20,
   "metadata": {},
   "outputs": [
    {
     "name": "stdout",
     "output_type": "stream",
     "text": [
      "Number is larger than 5 but smaller or equal to 10.\n"
     ]
    }
   ],
   "source": [
    "condition(6)"
   ]
  },
  {
   "cell_type": "markdown",
   "metadata": {},
   "source": [
    "## Python tárolók (containers)\n",
    "\n",
    "Részletekbe nem bocsájtkozva, röviden ismerkedjünk meg a beépített tárolókkal.\n",
    "\n",
    "### Lista (List)\n",
    "\n",
    "Értelemszerűen a lista változók sorozatát tartalmazza. A lista elemei bővíthetőek és változtathatóak."
   ]
  },
  {
   "cell_type": "code",
   "execution_count": 21,
   "metadata": {},
   "outputs": [
    {
     "data": {
      "text/plain": [
       "[1, 2, 3]"
      ]
     },
     "execution_count": 21,
     "metadata": {},
     "output_type": "execute_result"
    }
   ],
   "source": [
    "# lista létrehozása, a vessző karakter (,) nem hagyható el\n",
    "a = [1, 2, 3]\n",
    "\n",
    "# lista létrehozása függvényhívással\n",
    "a = list((1, 2, 3))\n",
    "a"
   ]
  },
  {
   "cell_type": "markdown",
   "metadata": {},
   "source": [
    "A lista lehet heterogén, azaz különböző típusú Python objektumokat tartalmazhat (string, szám, list)."
   ]
  },
  {
   "cell_type": "code",
   "execution_count": 22,
   "metadata": {},
   "outputs": [],
   "source": [
    "l = [\"a\", \"b\", [1, 2]]"
   ]
  },
  {
   "cell_type": "markdown",
   "metadata": {},
   "source": [
    "C-hez hasonlóan és a Matlab-tól eltérően a Python lista indexek 0-tól kezdődnek."
   ]
  },
  {
   "cell_type": "code",
   "execution_count": 23,
   "metadata": {},
   "outputs": [
    {
     "data": {
      "text/plain": [
       "1"
      ]
     },
     "execution_count": 23,
     "metadata": {},
     "output_type": "execute_result"
    }
   ],
   "source": [
    "a[0]"
   ]
  },
  {
   "cell_type": "markdown",
   "metadata": {},
   "source": [
    "A harmadik elem maga is egy lista így azt azonnal indexelhetjük."
   ]
  },
  {
   "cell_type": "code",
   "execution_count": 24,
   "metadata": {},
   "outputs": [
    {
     "data": {
      "text/plain": [
       "1"
      ]
     },
     "execution_count": 24,
     "metadata": {},
     "output_type": "execute_result"
    }
   ],
   "source": [
    "l[2][0]"
   ]
  },
  {
   "cell_type": "markdown",
   "metadata": {},
   "source": [
    "Elem lista végéhez adása:"
   ]
  },
  {
   "cell_type": "code",
   "execution_count": 36,
   "metadata": {},
   "outputs": [
    {
     "data": {
      "text/plain": [
       "[1, 2, 3, 'lista']"
      ]
     },
     "execution_count": 36,
     "metadata": {},
     "output_type": "execute_result"
    }
   ],
   "source": [
    "a = [1, 2, 3]\n",
    "a.append(\"lista\")\n",
    "a"
   ]
  },
  {
   "cell_type": "markdown",
   "metadata": {},
   "source": [
    "Adott elem törlése a listából:"
   ]
  },
  {
   "cell_type": "code",
   "execution_count": 39,
   "metadata": {},
   "outputs": [
    {
     "data": {
      "text/plain": [
       "[2, 3]"
      ]
     },
     "execution_count": 39,
     "metadata": {},
     "output_type": "execute_result"
    }
   ],
   "source": [
    "a = [1, 2, 3]\n",
    "del a[0]\n",
    "a"
   ]
  },
  {
   "cell_type": "markdown",
   "metadata": {},
   "source": [
    "Lista \"másolása\":"
   ]
  },
  {
   "cell_type": "code",
   "execution_count": 25,
   "metadata": {},
   "outputs": [
    {
     "data": {
      "text/plain": [
       "[0, 2, 3]"
      ]
     },
     "execution_count": 25,
     "metadata": {},
     "output_type": "execute_result"
    }
   ],
   "source": [
    "b = a\n",
    "b[0] = 0\n",
    "a"
   ]
  },
  {
   "cell_type": "markdown",
   "metadata": {},
   "source": [
    "A fenti példa mutatja, hogy a `b = a` parancs nem másolatot készít a listáról, azaz `b` csak egy referencia lesz az `a` változóra. Tehát ha `b`-t megváltoztatjuk `a` is megváltozik.\n",
    "\n",
    "Ha másolatot akarunk készíteni be kell importálnunk a megfelelő függvényt a megfelelő könyvtárból. A Matlab-tól eltérően nem áll rendelkezésünkre a telepített Python disztribúció összes csomagjának függvénye, azokat be kell importálnunk a megfelelő csomagból."
   ]
  },
  {
   "cell_type": "code",
   "execution_count": 30,
   "metadata": {},
   "outputs": [
    {
     "data": {
      "text/plain": [
       "[1, 2, 3]"
      ]
     },
     "execution_count": 30,
     "metadata": {},
     "output_type": "execute_result"
    }
   ],
   "source": [
    "import copy\n",
    "a = [1, 2, 3]\n",
    "\n",
    "# deepcopy függvény meghívása a copy csomagból/könyvtárból\n",
    "b = copy.deepcopy(a)\n",
    "\n",
    "b[0] = 0\n",
    "a"
   ]
  },
  {
   "cell_type": "markdown",
   "metadata": {},
   "source": [
    "Hasonló viselkedést tapasztalunk, ha függvénynek adunk át argumentumnként egy listát."
   ]
  },
  {
   "cell_type": "code",
   "execution_count": 31,
   "metadata": {},
   "outputs": [],
   "source": [
    "def fun(a):\n",
    "    a[0] = \"NaN\""
   ]
  },
  {
   "cell_type": "code",
   "execution_count": 32,
   "metadata": {},
   "outputs": [
    {
     "data": {
      "text/plain": [
       "['NaN', 2, 3]"
      ]
     },
     "execution_count": 32,
     "metadata": {},
     "output_type": "execute_result"
    }
   ],
   "source": [
    "a = [1, 2, 3]\n",
    "fun(a)\n",
    "a"
   ]
  },
  {
   "cell_type": "markdown",
   "metadata": {},
   "source": [
    "A Python tartalmaz jónéhány könyvtárat (standard library). A standard könyvtár igen sok alkönyvtárat tartalmaz, ezeket nem fogjuk részletesen átnézni, csak azokat, amik számunkra szükségesek. \n",
    "\n",
    "A standard könyvtár [dokumentációja](https://docs.python.org/3/reference/index.html).\n",
    "\n",
    "Én a [ezt](https://devdocs.io/) általános dokumentáció keresőt ajánlom. A weboldal megfelelően beállítva offline is használható. Az alapbeállítások nem tartalmazzák a Python dokumentációt, azt ki kell választani a `Disabled` menüpont alatti listából és aktiválni kell."
   ]
  },
  {
   "cell_type": "markdown",
   "metadata": {},
   "source": [
    "### Tuple\n",
    "\n",
    "Ez a tároló nagyon hasonló a listához. A tuple objektumhoz azonban nem fűzhetőek elemek, a tuple elemei nem változtathatóak meg."
   ]
  },
  {
   "cell_type": "code",
   "execution_count": 40,
   "metadata": {},
   "outputs": [
    {
     "data": {
      "text/plain": [
       "(1, 2, 3)"
      ]
     },
     "execution_count": 40,
     "metadata": {},
     "output_type": "execute_result"
    }
   ],
   "source": [
    "# tuple létrehozása\n",
    "a = (1, 2, 3)\n",
    "\n",
    "# létrehozás függvényhívással\n",
    "a = tuple((1, 2, 3))\n",
    "a"
   ]
  },
  {
   "cell_type": "markdown",
   "metadata": {},
   "source": [
    "Tuple indexelése."
   ]
  },
  {
   "cell_type": "code",
   "execution_count": 41,
   "metadata": {},
   "outputs": [
    {
     "data": {
      "text/plain": [
       "1"
      ]
     },
     "execution_count": 41,
     "metadata": {},
     "output_type": "execute_result"
    }
   ],
   "source": [
    "a[0]"
   ]
  },
  {
   "cell_type": "markdown",
   "metadata": {},
   "source": [
    "A tuple elemei nem változtathatóak meg:"
   ]
  },
  {
   "cell_type": "code",
   "execution_count": 42,
   "metadata": {},
   "outputs": [
    {
     "ename": "TypeError",
     "evalue": "'tuple' object does not support item assignment",
     "output_type": "error",
     "traceback": [
      "\u001b[0;31m---------------------------------------------------------------------------\u001b[0m",
      "\u001b[0;31mTypeError\u001b[0m                                 Traceback (most recent call last)",
      "\u001b[0;32m<ipython-input-42-d25ac66b1e49>\u001b[0m in \u001b[0;36m<module>\u001b[0;34m\u001b[0m\n\u001b[0;32m----> 1\u001b[0;31m \u001b[0ma\u001b[0m\u001b[0;34m[\u001b[0m\u001b[0;36m0\u001b[0m\u001b[0;34m]\u001b[0m \u001b[0;34m=\u001b[0m \u001b[0;36m0.0\u001b[0m\u001b[0;34m\u001b[0m\u001b[0;34m\u001b[0m\u001b[0m\n\u001b[0m",
      "\u001b[0;31mTypeError\u001b[0m: 'tuple' object does not support item assignment"
     ]
    }
   ],
   "source": [
    "a[0] = 0.0"
   ]
  },
  {
   "cell_type": "code",
   "execution_count": 43,
   "metadata": {},
   "outputs": [
    {
     "ename": "TypeError",
     "evalue": "'tuple' object does not support item assignment",
     "output_type": "error",
     "traceback": [
      "\u001b[0;31m---------------------------------------------------------------------------\u001b[0m",
      "\u001b[0;31mTypeError\u001b[0m                                 Traceback (most recent call last)",
      "\u001b[0;32m<ipython-input-43-73c0118913d2>\u001b[0m in \u001b[0;36m<module>\u001b[0;34m\u001b[0m\n\u001b[0;32m----> 1\u001b[0;31m \u001b[0mfun\u001b[0m\u001b[0;34m(\u001b[0m\u001b[0ma\u001b[0m\u001b[0;34m)\u001b[0m\u001b[0;34m\u001b[0m\u001b[0;34m\u001b[0m\u001b[0m\n\u001b[0m",
      "\u001b[0;32m<ipython-input-31-0524b6e54cd9>\u001b[0m in \u001b[0;36mfun\u001b[0;34m(a)\u001b[0m\n\u001b[1;32m      1\u001b[0m \u001b[0;32mdef\u001b[0m \u001b[0mfun\u001b[0m\u001b[0;34m(\u001b[0m\u001b[0ma\u001b[0m\u001b[0;34m)\u001b[0m\u001b[0;34m:\u001b[0m\u001b[0;34m\u001b[0m\u001b[0;34m\u001b[0m\u001b[0m\n\u001b[0;32m----> 2\u001b[0;31m     \u001b[0ma\u001b[0m\u001b[0;34m[\u001b[0m\u001b[0;36m0\u001b[0m\u001b[0;34m]\u001b[0m \u001b[0;34m=\u001b[0m \u001b[0;34m\"NaN\"\u001b[0m\u001b[0;34m\u001b[0m\u001b[0;34m\u001b[0m\u001b[0m\n\u001b[0m",
      "\u001b[0;31mTypeError\u001b[0m: 'tuple' object does not support item assignment"
     ]
    }
   ],
   "source": [
    "fun(a)"
   ]
  },
  {
   "cell_type": "markdown",
   "metadata": {},
   "source": [
    "Lista tuple-é alakítása."
   ]
  },
  {
   "cell_type": "code",
   "execution_count": 44,
   "metadata": {},
   "outputs": [
    {
     "data": {
      "text/plain": [
       "(1, 2, 3)"
      ]
     },
     "execution_count": 44,
     "metadata": {},
     "output_type": "execute_result"
    }
   ],
   "source": [
    "a = [1,2,3]\n",
    "a = tuple(a)\n",
    "a"
   ]
  },
  {
   "cell_type": "markdown",
   "metadata": {},
   "source": [
    "Angol irodalomban erre a két változótípusra szokták a *mutable* és *immutable* melléknevet használni. A lista ún. *mutable* (változtatható) változó, a tuple ún. *immutable* (nem-megváltoztatható) \"változó\"."
   ]
  },
  {
   "cell_type": "markdown",
   "metadata": {},
   "source": [
    "### Halmaz (Set)\n",
    "\n",
    "Gyakorlatilag egy matematikai halmazt reprezentál, minden eleme egyedi."
   ]
  },
  {
   "cell_type": "code",
   "execution_count": 45,
   "metadata": {},
   "outputs": [
    {
     "data": {
      "text/plain": [
       "{'a', 'b', 'c'}"
      ]
     },
     "execution_count": 45,
     "metadata": {},
     "output_type": "execute_result"
    }
   ],
   "source": [
    "# létrehozása\n",
    "a = {\"a\", \"b\", \"c\"}\n",
    "a = set((\"a\", \"b\", \"c\"))\n",
    "a"
   ]
  },
  {
   "cell_type": "markdown",
   "metadata": {},
   "source": [
    "Elem hozzáadása halmazhoz:"
   ]
  },
  {
   "cell_type": "code",
   "execution_count": 60,
   "metadata": {},
   "outputs": [
    {
     "data": {
      "text/plain": [
       "{'a', 'b', 'c', 'd'}"
      ]
     },
     "execution_count": 60,
     "metadata": {},
     "output_type": "execute_result"
    }
   ],
   "source": [
    "a.add(\"d\")\n",
    "a"
   ]
  },
  {
   "cell_type": "markdown",
   "metadata": {},
   "source": [
    "Az `a` halmaz már tartalmazza az `\"a\"` string-et:"
   ]
  },
  {
   "cell_type": "code",
   "execution_count": 46,
   "metadata": {},
   "outputs": [
    {
     "data": {
      "text/plain": [
       "{'a', 'b', 'c'}"
      ]
     },
     "execution_count": 46,
     "metadata": {},
     "output_type": "execute_result"
    }
   ],
   "source": [
    "a.add(\"a\")\n",
    "a"
   ]
  },
  {
   "cell_type": "code",
   "execution_count": 47,
   "metadata": {},
   "outputs": [
    {
     "data": {
      "text/plain": [
       "[1, 2, 2, 3, 4, 5, 4]"
      ]
     },
     "execution_count": 47,
     "metadata": {},
     "output_type": "execute_result"
    }
   ],
   "source": [
    "a = [1, 2, 2, 3, 4, 5, 4]\n",
    "a"
   ]
  },
  {
   "cell_type": "markdown",
   "metadata": {},
   "source": [
    "Halmaz létrehozása listából:"
   ]
  },
  {
   "cell_type": "code",
   "execution_count": 66,
   "metadata": {},
   "outputs": [
    {
     "data": {
      "text/plain": [
       "{1, 2, 3, 4, 5}"
      ]
     },
     "execution_count": 66,
     "metadata": {},
     "output_type": "execute_result"
    }
   ],
   "source": [
    "b = set(a)\n",
    "b"
   ]
  },
  {
   "cell_type": "markdown",
   "metadata": {},
   "source": [
    "Az `in` operátorral le lehet kérdezni, tartalmaz-e egy adott elemet a halamzunk."
   ]
  },
  {
   "cell_type": "code",
   "execution_count": 68,
   "metadata": {},
   "outputs": [
    {
     "data": {
      "text/plain": [
       "(True, True)"
      ]
     },
     "execution_count": 68,
     "metadata": {},
     "output_type": "execute_result"
    }
   ],
   "source": [
    "1 in b, 1 in a"
   ]
  },
  {
   "cell_type": "markdown",
   "metadata": {},
   "source": [
    "*Megjegyzés*: Az `in` operátor tuple-el és listával is működik, a halmaz esetén gyorsabb a lekérdezés."
   ]
  },
  {
   "cell_type": "markdown",
   "metadata": {},
   "source": [
    "### \"Szótár\" (dictionary, hash map, hash table, associative array)\n",
    "\n",
    "Kulcs-elem párokat tartalmazó objektum."
   ]
  },
  {
   "cell_type": "code",
   "execution_count": 48,
   "metadata": {},
   "outputs": [
    {
     "data": {
      "text/plain": [
       "{'one': 1, 'two': 2, 2.0: 'red'}"
      ]
     },
     "execution_count": 48,
     "metadata": {},
     "output_type": "execute_result"
    }
   ],
   "source": [
    "# létrehozása\n",
    "a = {\"one\": 1, \"two\": 2, 2.0: \"red\"}\n",
    "a"
   ]
  },
  {
   "cell_type": "markdown",
   "metadata": {},
   "source": [
    "Elem lekérdezése:"
   ]
  },
  {
   "cell_type": "code",
   "execution_count": 49,
   "metadata": {},
   "outputs": [
    {
     "data": {
      "text/plain": [
       "1"
      ]
     },
     "execution_count": 49,
     "metadata": {},
     "output_type": "execute_result"
    }
   ],
   "source": [
    "a[\"one\"]"
   ]
  },
  {
   "cell_type": "code",
   "execution_count": 50,
   "metadata": {},
   "outputs": [
    {
     "data": {
      "text/plain": [
       "'red'"
      ]
     },
     "execution_count": 50,
     "metadata": {},
     "output_type": "execute_result"
    }
   ],
   "source": [
    "a[2.0]"
   ]
  },
  {
   "cell_type": "code",
   "execution_count": 51,
   "metadata": {},
   "outputs": [
    {
     "data": {
      "text/plain": [
       "{'row': 6, 'col': 2, 'rank': 2}"
      ]
     },
     "execution_count": 51,
     "metadata": {},
     "output_type": "execute_result"
    }
   ],
   "source": [
    "a = {\n",
    "    \"row\": 6,\n",
    "    \"col\": 2,\n",
    "    \"rank\": 2\n",
    "}\n",
    "a"
   ]
  },
  {
   "cell_type": "markdown",
   "metadata": {},
   "source": [
    "Kulcs-elem pár hozzáadása:"
   ]
  },
  {
   "cell_type": "code",
   "execution_count": 52,
   "metadata": {},
   "outputs": [
    {
     "data": {
      "text/plain": [
       "{'row': 6, 'col': 2, 'rank': 2, 'non_zero_elements': 0}"
      ]
     },
     "execution_count": 52,
     "metadata": {},
     "output_type": "execute_result"
    }
   ],
   "source": [
    "a[\"non_zero_elements\"] = 0\n",
    "a"
   ]
  },
  {
   "cell_type": "markdown",
   "metadata": {},
   "source": [
    "A kulcsok és elemek maguk is Python objektumok. Egy Python dictionary egy Python objektum, tehát:"
   ]
  },
  {
   "cell_type": "code",
   "execution_count": 53,
   "metadata": {},
   "outputs": [
    {
     "data": {
      "text/plain": [
       "{'John': {'sex': 'male', 'age': 26}, 'Jane': {'sex': 'female', 'age': 22}}"
      ]
     },
     "execution_count": 53,
     "metadata": {},
     "output_type": "execute_result"
    }
   ],
   "source": [
    "a = {\n",
    "    \"John\": {\"sex\": \"male\", \"age\": 26},\n",
    "    \"Jane\": {\"sex\": \"female\", \"age\": 22}\n",
    "}\n",
    "a"
   ]
  },
  {
   "cell_type": "code",
   "execution_count": 54,
   "metadata": {},
   "outputs": [
    {
     "data": {
      "text/plain": [
       "{'sex': 'female', 'age': 22}"
      ]
     },
     "execution_count": 54,
     "metadata": {},
     "output_type": "execute_result"
    }
   ],
   "source": [
    "a[\"Jane\"]"
   ]
  },
  {
   "cell_type": "code",
   "execution_count": 55,
   "metadata": {},
   "outputs": [
    {
     "data": {
      "text/plain": [
       "22"
      ]
     },
     "execution_count": 55,
     "metadata": {},
     "output_type": "execute_result"
    }
   ],
   "source": [
    "a[\"Jane\"][\"age\"]"
   ]
  },
  {
   "cell_type": "markdown",
   "metadata": {},
   "source": [
    "### Tárolók létrehozása - `for` ciklus\n",
    "\n",
    "Hozzunk létre egy tárolót, mely tartalmazza az egész számokat 0-tól 9-ig. A `%%timeit` parancssal egy adott cella átlagos futási idejét mérhetjük meg."
   ]
  },
  {
   "cell_type": "code",
   "execution_count": 57,
   "metadata": {},
   "outputs": [
    {
     "name": "stdout",
     "output_type": "stream",
     "text": [
      "1.09 µs ± 11 ns per loop (mean ± std. dev. of 7 runs, 1000000 loops each)\n"
     ]
    }
   ],
   "source": [
    "%%timeit\n",
    "a = []\n",
    "\n",
    "for ii in range(10):\n",
    "    a.append(ii)"
   ]
  },
  {
   "cell_type": "markdown",
   "metadata": {},
   "source": [
    "A `range` függvény segítségével végig tudunk járni egy adott számhalmazon. Jelen esetben a `range(10)` függvényhívással `ii` változó értéke végigjárja a `0,1,2,3,4,5,6,7,8,9` számok halmazát."
   ]
  },
  {
   "cell_type": "code",
   "execution_count": 59,
   "metadata": {},
   "outputs": [
    {
     "data": {
      "text/plain": [
       "[0, 1, 2, 3, 4, 5, 6, 7, 8, 9]"
      ]
     },
     "execution_count": 59,
     "metadata": {},
     "output_type": "execute_result"
    }
   ],
   "source": [
    "a"
   ]
  },
  {
   "cell_type": "markdown",
   "metadata": {},
   "source": [
    "Ugyenezt a listát elő tudjuk állítani más szintaxissal."
   ]
  },
  {
   "cell_type": "code",
   "execution_count": 60,
   "metadata": {},
   "outputs": [
    {
     "name": "stdout",
     "output_type": "stream",
     "text": [
      "798 ns ± 26.9 ns per loop (mean ± std. dev. of 7 runs, 1000000 loops each)\n"
     ]
    }
   ],
   "source": [
    "%%timeit\n",
    "a = [ii for ii in range(10)]"
   ]
  },
  {
   "cell_type": "markdown",
   "metadata": {},
   "source": [
    "Ez a szintaxis (*list comprehension*) tömörebb és hatékonyabban számítja ki a listaelemeket."
   ]
  },
  {
   "cell_type": "code",
   "execution_count": 99,
   "metadata": {},
   "outputs": [
    {
     "data": {
      "text/plain": [
       "[0, 1, 2, 3, 4, 5, 6, 7, 8, 9]"
      ]
     },
     "execution_count": 99,
     "metadata": {},
     "output_type": "execute_result"
    }
   ],
   "source": [
    "a"
   ]
  },
  {
   "cell_type": "markdown",
   "metadata": {},
   "source": [
    "A tömör szintaxisban az `if` kulcsszó is beépíthető. Pl 5-nél kisebb elemek generálása:"
   ]
  },
  {
   "cell_type": "code",
   "execution_count": 65,
   "metadata": {},
   "outputs": [
    {
     "data": {
      "text/plain": [
       "[0, 1, 2, 3, 4]"
      ]
     },
     "execution_count": 65,
     "metadata": {},
     "output_type": "execute_result"
    }
   ],
   "source": [
    "a = [ii for ii in range(10) if ii < 5]\n",
    "a"
   ]
  },
  {
   "cell_type": "markdown",
   "metadata": {},
   "source": [
    "Az elemek számát a `len` függvénnyel kérhetjük le. (Működik set, dictionary és tuple esetén is.)"
   ]
  },
  {
   "cell_type": "code",
   "execution_count": 61,
   "metadata": {},
   "outputs": [
    {
     "data": {
      "text/plain": [
       "10"
      ]
     },
     "execution_count": 61,
     "metadata": {},
     "output_type": "execute_result"
    }
   ],
   "source": [
    "len(a)"
   ]
  },
  {
   "cell_type": "markdown",
   "metadata": {},
   "source": [
    "Elemek kinyomtatása naív módón:"
   ]
  },
  {
   "cell_type": "code",
   "execution_count": 66,
   "metadata": {},
   "outputs": [
    {
     "name": "stdout",
     "output_type": "stream",
     "text": [
      "0\n",
      "1\n",
      "2\n",
      "3\n",
      "4\n"
     ]
    }
   ],
   "source": [
    "for ii in range(len(a)):\n",
    "    print(a[ii])"
   ]
  },
  {
   "cell_type": "markdown",
   "metadata": {},
   "source": [
    "Másik megoldás, lista elemeinek iterálása."
   ]
  },
  {
   "cell_type": "code",
   "execution_count": 67,
   "metadata": {},
   "outputs": [
    {
     "name": "stdout",
     "output_type": "stream",
     "text": [
      "0\n",
      "1\n",
      "2\n",
      "3\n",
      "4\n"
     ]
    }
   ],
   "source": [
    "for elem in a:\n",
    "    print(elem)"
   ]
  },
  {
   "cell_type": "markdown",
   "metadata": {},
   "source": [
    "Ha az elem indexre is szükség van:"
   ]
  },
  {
   "cell_type": "code",
   "execution_count": 76,
   "metadata": {},
   "outputs": [
    {
     "name": "stdout",
     "output_type": "stream",
     "text": [
      "Index:  0 - Elem:  0\n",
      "Index:  1 - Elem:  1\n",
      "Index:  2 - Elem:  2\n",
      "Index:  3 - Elem:  3\n",
      "Index:  4 - Elem:  4\n"
     ]
    }
   ],
   "source": [
    "for ii, elem in enumerate(a):\n",
    "    print(\"Index: \", ii, \"- Elem: \", elem)"
   ]
  },
  {
   "cell_type": "markdown",
   "metadata": {},
   "source": [
    "Dictionary esetén a kulcs elemeken tudunk vlgigjárni."
   ]
  },
  {
   "cell_type": "code",
   "execution_count": 69,
   "metadata": {},
   "outputs": [
    {
     "name": "stdout",
     "output_type": "stream",
     "text": [
      "a\n",
      "b\n"
     ]
    }
   ],
   "source": [
    "d = {\"a\": 1, \"b\": 2}\n",
    "\n",
    "for elem in d:\n",
    "    print(elem)"
   ]
  },
  {
   "cell_type": "markdown",
   "metadata": {},
   "source": [
    "Kulcs-elem párokon a következőképpen tudunk egyszerre végigjárni:"
   ]
  },
  {
   "cell_type": "code",
   "execution_count": 70,
   "metadata": {},
   "outputs": [
    {
     "name": "stdout",
     "output_type": "stream",
     "text": [
      "a 1\n",
      "b 2\n"
     ]
    }
   ],
   "source": [
    "for key, val in d.items():\n",
    "    print(key, val)"
   ]
  }
 ],
 "metadata": {
  "kernelspec": {
   "display_name": "Python 3",
   "language": "python",
   "name": "python3"
  },
  "language_info": {
   "codemirror_mode": {
    "name": "ipython",
    "version": 3
   },
   "file_extension": ".py",
   "mimetype": "text/x-python",
   "name": "python",
   "nbconvert_exporter": "python",
   "pygments_lexer": "ipython3",
   "version": "3.7.4"
  }
 },
 "nbformat": 4,
 "nbformat_minor": 2
}
